{
 "cells": [
  {
   "cell_type": "markdown",
   "id": "38a71055",
   "metadata": {},
   "source": [
    "# **Height Prediction using DECISION TREE Regression**"
   ]
  },
  {
   "cell_type": "code",
   "execution_count": 2,
   "id": "baaef092",
   "metadata": {},
   "outputs": [],
   "source": [
    "import pandas as pd\n",
    "import numpy as np\n",
    "import matplotlib.pyplot as plt"
   ]
  },
  {
   "cell_type": "code",
   "execution_count": 3,
   "id": "77a54d2d",
   "metadata": {},
   "outputs": [],
   "source": [
    "dataset = pd.read_csv('dataset.csv')"
   ]
  },
  {
   "cell_type": "code",
   "execution_count": 4,
   "id": "854271aa",
   "metadata": {},
   "outputs": [
    {
     "name": "stdout",
     "output_type": "stream",
     "text": [
      "(71, 2)\n",
      "   Age  Height\n",
      "0   10     138\n",
      "1   11     138\n",
      "2   12     138\n",
      "3   13     139\n",
      "4   14     139\n"
     ]
    }
   ],
   "source": [
    "print(dataset.shape)\n",
    "print(dataset.head(5))"
   ]
  },
  {
   "cell_type": "code",
   "execution_count": 5,
   "id": "cf4555e4",
   "metadata": {},
   "outputs": [
    {
     "data": {
      "text/plain": [
       "array([[10],\n",
       "       [11],\n",
       "       [12],\n",
       "       [13],\n",
       "       [14],\n",
       "       [15],\n",
       "       [16],\n",
       "       [17],\n",
       "       [18],\n",
       "       [19],\n",
       "       [20],\n",
       "       [21],\n",
       "       [22],\n",
       "       [23],\n",
       "       [24],\n",
       "       [25],\n",
       "       [26],\n",
       "       [27],\n",
       "       [28],\n",
       "       [29],\n",
       "       [30],\n",
       "       [31],\n",
       "       [32],\n",
       "       [33],\n",
       "       [34],\n",
       "       [35],\n",
       "       [36],\n",
       "       [37],\n",
       "       [38],\n",
       "       [39],\n",
       "       [40],\n",
       "       [41],\n",
       "       [42],\n",
       "       [43],\n",
       "       [44],\n",
       "       [45],\n",
       "       [46],\n",
       "       [47],\n",
       "       [48],\n",
       "       [49],\n",
       "       [50],\n",
       "       [51],\n",
       "       [52],\n",
       "       [53],\n",
       "       [54],\n",
       "       [55],\n",
       "       [56],\n",
       "       [57],\n",
       "       [58],\n",
       "       [59],\n",
       "       [60],\n",
       "       [61],\n",
       "       [62],\n",
       "       [63],\n",
       "       [64],\n",
       "       [65],\n",
       "       [66],\n",
       "       [67],\n",
       "       [68],\n",
       "       [69],\n",
       "       [70],\n",
       "       [71],\n",
       "       [72],\n",
       "       [73],\n",
       "       [74],\n",
       "       [75],\n",
       "       [76],\n",
       "       [77],\n",
       "       [78],\n",
       "       [79],\n",
       "       [80]], dtype=int64)"
      ]
     },
     "execution_count": 5,
     "metadata": {},
     "output_type": "execute_result"
    }
   ],
   "source": [
    "X = dataset.iloc[:, :-1].values\n",
    "X"
   ]
  },
  {
   "cell_type": "code",
   "execution_count": 6,
   "id": "7288371f",
   "metadata": {},
   "outputs": [
    {
     "data": {
      "text/plain": [
       "array([138, 138, 138, 139, 139, 139, 140, 140, 140, 141, 141, 141, 142,\n",
       "       142, 142, 143, 143, 143, 144, 144, 145, 145, 146, 146, 147, 147,\n",
       "       148, 148, 149, 149, 150, 150, 151, 152, 153, 155, 156, 157, 158,\n",
       "       159, 160, 161, 162, 163, 164, 164, 165, 166, 167, 168, 169, 170,\n",
       "       171, 172, 173, 175, 178, 180, 183, 185, 188, 190, 193, 195, 199,\n",
       "       203, 204, 205, 206, 207, 208], dtype=int64)"
      ]
     },
     "execution_count": 6,
     "metadata": {},
     "output_type": "execute_result"
    }
   ],
   "source": [
    "Y = dataset.iloc[:, -1].values\n",
    "Y"
   ]
  },
  {
   "cell_type": "markdown",
   "id": "3fc1d95b",
   "metadata": {},
   "source": [
    "# *Splitting Dataset for Testing our Model*"
   ]
  },
  {
   "cell_type": "code",
   "execution_count": 7,
   "id": "88cc8d07",
   "metadata": {},
   "outputs": [],
   "source": [
    "from sklearn.model_selection import train_test_split\n",
    "x_train,x_test,y_train,y_test = train_test_split(X,Y,test_size=0.20,random_state=0)"
   ]
  },
  {
   "cell_type": "markdown",
   "id": "91c4f9fa",
   "metadata": {},
   "source": [
    "# *Training Dataset using Decision Tree*"
   ]
  },
  {
   "cell_type": "code",
   "execution_count": 8,
   "id": "54bec3f3",
   "metadata": {},
   "outputs": [
    {
     "data": {
      "text/plain": [
       "DecisionTreeRegressor()"
      ]
     },
     "execution_count": 8,
     "metadata": {},
     "output_type": "execute_result"
    }
   ],
   "source": [
    "from sklearn.tree import DecisionTreeRegressor  \n",
    "model = DecisionTreeRegressor()  \n",
    "model.fit(x_train, y_train)"
   ]
  },
  {
   "cell_type": "markdown",
   "id": "21ab02be",
   "metadata": {},
   "source": [
    "# *Visualizing Graph*"
   ]
  },
  {
   "cell_type": "code",
   "execution_count": 9,
   "id": "6469b1a7",
   "metadata": {},
   "outputs": [
    {
     "data": {
      "image/png": "[encoded data removed]",
      "text/plain": [
       "<Figure size 432x288 with 1 Axes>"
      ]
     },
     "metadata": {
      "needs_background": "light"
     },
     "output_type": "display_data"
    },
    {
     "data": {
      "text/plain": [
       "<Figure size 432x288 with 0 Axes>"
      ]
     },
     "metadata": {},
     "output_type": "display_data"
    }
   ],
   "source": [
    "X_val = np.arange(min(x_train), max(x_train), 0.01) \n",
    "X_val = X_val.reshape((len(X_val), 1))\n",
    "plt.scatter(x_train, y_train, color = 'green') \n",
    "plt.plot(X_val, model.predict(X_val), color = 'red')  \n",
    "plt.title('Height prediction using DecisionTree') \n",
    "plt.xlabel('Age') \n",
    "plt.ylabel('Height') \n",
    "plt.figure()\n",
    "plt.show()"
   ]
  },
  {
   "cell_type": "markdown",
   "id": "c1d46bc3",
   "metadata": {},
   "source": [
    "# *Predict height for the given age*"
   ]
  },
  {
   "cell_type": "code",
   "execution_count": 12,
   "id": "94a5e950",
   "metadata": {},
   "outputs": [
    {
     "name": "stdout",
     "output_type": "stream",
     "text": [
      "[149.]\n"
     ]
    }
   ],
   "source": [
    "x = [[40]]\n",
    "y_pred = model.predict(x)\n",
    "print(y_pred)"
   ]
  },
  {
   "cell_type": "markdown",
   "id": "e64b2d04",
   "metadata": {},
   "source": [
    "# *Prediction for all test data for validation*"
   ]
  },
  {
   "cell_type": "code",
   "execution_count": 13,
   "id": "6632f6c2",
   "metadata": {},
   "outputs": [
    {
     "name": "stdout",
     "output_type": "stream",
     "text": [
      "Root Mean Square Error: 1.3416407864998738\n",
      "R2Score 99.42815994578109\n"
     ]
    }
   ],
   "source": [
    "ypred = model.predict(x_test)\n",
    "\n",
    "from sklearn.metrics import r2_score,mean_squared_error\n",
    "mse = mean_squared_error(y_test,ypred)\n",
    "rmse=np.sqrt(mse)\n",
    "print(\"Root Mean Square Error:\",rmse)\n",
    "r2score = r2_score(y_test,ypred)\n",
    "print(\"R2Score\",r2score*100)"
   ]
  },
  {
   "cell_type": "code",
   "execution_count": null,
   "id": "68d75cee",
   "metadata": {},
   "outputs": [],
   "source": []
  }
 ],
 "metadata": {
  "kernelspec": {
   "display_name": "Python 3 (ipykernel)",
   "language": "python",
   "name": "python3"
  },
  "language_info": {
   "codemirror_mode": {
    "name": "ipython",
    "version": 3
   },
   "file_extension": ".py",
   "mimetype": "text/x-python",
   "name": "python",
   "nbconvert_exporter": "python",
   "pygments_lexer": "ipython3",
   "version": "3.9.7"
  }
 },
 "nbformat": 4,
 "nbformat_minor": 5
}
